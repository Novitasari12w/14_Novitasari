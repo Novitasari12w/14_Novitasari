{
  "nbformat": 4,
  "nbformat_minor": 0,
  "metadata": {
    "colab": {
      "provenance": []
    },
    "kernelspec": {
      "name": "python3",
      "display_name": "Python 3"
    },
    "language_info": {
      "name": "python"
    }
  },
  "cells": [
    {
      "cell_type": "markdown",
      "source": [
        "# PYTHON 1"
      ],
      "metadata": {
        "id": "RLGeJ_lz0S0x"
      }
    },
    {
      "cell_type": "markdown",
      "source": [
        "Create a function whose name is third_place that does the following:\n",
        "\n",
        "Given a list of test score and a list of participants name. The desired output would be the name of the participant who gets the 3rd best score. The rule of determining the order of the best score is as follows:\n",
        "\n",
        "Higher score is better In case of multiple participants having the same test score, they can occupy the same ranking value. For example, if 2 participants scored 100, then both of them occupy the first place. The first input of the function is the name list, and the second input to the function is the score list"
      ],
      "metadata": {
        "id": "AJs_WBdz0ciW"
      }
    },
    {
      "cell_type": "code",
      "source": [
        "data = {55 : 'cika' , 50 : 'sasa' ,  80: 'titin',  90: 'bagas', 70: 'bagus' , 85: 'rama' , 75: 'sinta'}\n",
        "nama_3 =  data [70]\n",
        "\n",
        "names = ['cika', 'sasa', 'titin', 'bagas', 'bagus', 'rama', 'sinta']\n",
        "score = [55, 50, 80, 90, 70, 85, 75,]\n",
        "sorted(score)\n",
        "nilai_3 = score[-3]\n",
        "print(\"Pemenang ketiga dari nilai yang dihasilkan diatas diperoleh pada nilai:\", nilai_3)\n",
        "print(\"nilai tersebut dimiliki oleh:\",nama_3)\n"
      ],
      "metadata": {
        "colab": {
          "base_uri": "https://localhost:8080/"
        },
        "id": "3kSETSbHvwKQ",
        "outputId": "9e69bec2-335d-4261-c299-82192307d7fe"
      },
      "execution_count": 68,
      "outputs": [
        {
          "output_type": "stream",
          "name": "stdout",
          "text": [
            "Pemenang ketiga dari nilai yang dihasilkan diatas diperoleh pada nilai: 70\n",
            "nilai tersebut dimiliki oleh: bagus\n"
          ]
        }
      ]
    },
    {
      "cell_type": "markdown",
      "source": [
        "#PYTHON 2"
      ],
      "metadata": {
        "id": "9DwfxNif0iR8"
      }
    },
    {
      "cell_type": "markdown",
      "source": [
        "Create a function called distance that does the following:\n",
        "\n",
        "Given two coordinates in a list. Your task is to calculate the distance between these two coordinates. The input of your function will be two list. Each list contains 2 members, representing the x and y position."
      ],
      "metadata": {
        "id": "nkNOxZtr0pA1"
      }
    },
    {
      "cell_type": "code",
      "source": [
        "def distance(point_1, point_2):\n",
        "  x1, x2 = point_1\n",
        "  y1, y2 = point_2\n",
        "\n",
        "  # Rumus jarak koordinat\n",
        "  jarak_koordinat = ( ((x2 - x1)**2) + ((y2-y1)**2))**1/2\n",
        "\n",
        "  point_1 = [3, 5]\n",
        "  point_2 = [3, 4]\n",
        "\n",
        "  # Permisalan\n",
        "  x1 = point_1[:1]\n",
        "  x2 = point_1 [-1]\n",
        "  y1 = point_2 [:1]\n",
        "  y2 = point_2 [-1]\n",
        "\n",
        "  print('jarak antara 2 koordinat tersebut yaitu: jarak_koordinat')"
      ],
      "metadata": {
        "id": "rYmZbDPe9ulB"
      },
      "execution_count": null,
      "outputs": []
    }
  ]
}